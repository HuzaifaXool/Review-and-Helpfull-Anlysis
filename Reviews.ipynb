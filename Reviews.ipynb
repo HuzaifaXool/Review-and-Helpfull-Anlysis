{
 "cells": [
  {
   "cell_type": "markdown",
   "id": "67ad4d62-9fb3-4a4c-98a0-273b93a3c0d2",
   "metadata": {},
   "source": [
    "# Review and Helpfulness Analysis\n"
   ]
  },
  {
   "cell_type": "code",
   "execution_count": 1,
   "id": "772be93d-dac6-43a7-a86b-bacb4046a1e4",
   "metadata": {},
   "outputs": [],
   "source": [
    "# Importing Libraries\n",
    "import pandas as pd   # For data manipulation and analysis\n",
    "import numpy as np    # For numerical operations"
   ]
  },
  {
   "cell_type": "code",
   "execution_count": 2,
   "id": "1b5a0c47-a8fe-4fd5-9e2b-73d33d6700c0",
   "metadata": {},
   "outputs": [
    {
     "data": {
      "text/html": [
       "<div>\n",
       "<style scoped>\n",
       "    .dataframe tbody tr th:only-of-type {\n",
       "        vertical-align: middle;\n",
       "    }\n",
       "\n",
       "    .dataframe tbody tr th {\n",
       "        vertical-align: top;\n",
       "    }\n",
       "\n",
       "    .dataframe thead th {\n",
       "        text-align: right;\n",
       "    }\n",
       "</style>\n",
       "<table border=\"1\" class=\"dataframe\">\n",
       "  <thead>\n",
       "    <tr style=\"text-align: right;\">\n",
       "      <th></th>\n",
       "      <th>Id</th>\n",
       "      <th>ProductId</th>\n",
       "      <th>UserId</th>\n",
       "      <th>ProfileName</th>\n",
       "      <th>HelpfulnessNumerator</th>\n",
       "      <th>HelpfulnessDenominator</th>\n",
       "      <th>Score</th>\n",
       "      <th>Time</th>\n",
       "      <th>Summary</th>\n",
       "      <th>Text</th>\n",
       "    </tr>\n",
       "  </thead>\n",
       "  <tbody>\n",
       "    <tr>\n",
       "      <th>0</th>\n",
       "      <td>1</td>\n",
       "      <td>B001E4KFG0</td>\n",
       "      <td>A3SGXH7AUHU8GW</td>\n",
       "      <td>delmartian</td>\n",
       "      <td>1</td>\n",
       "      <td>1</td>\n",
       "      <td>5</td>\n",
       "      <td>1303862400</td>\n",
       "      <td>Good Quality Dog Food</td>\n",
       "      <td>I have bought several of the Vitality canned d...</td>\n",
       "    </tr>\n",
       "    <tr>\n",
       "      <th>1</th>\n",
       "      <td>2</td>\n",
       "      <td>B00813GRG4</td>\n",
       "      <td>A1D87F6ZCVE5NK</td>\n",
       "      <td>dll pa</td>\n",
       "      <td>0</td>\n",
       "      <td>0</td>\n",
       "      <td>1</td>\n",
       "      <td>1346976000</td>\n",
       "      <td>Not as Advertised</td>\n",
       "      <td>Product arrived labeled as Jumbo Salted Peanut...</td>\n",
       "    </tr>\n",
       "    <tr>\n",
       "      <th>2</th>\n",
       "      <td>3</td>\n",
       "      <td>B000LQOCH0</td>\n",
       "      <td>ABXLMWJIXXAIN</td>\n",
       "      <td>Natalia Corres \"Natalia Corres\"</td>\n",
       "      <td>1</td>\n",
       "      <td>1</td>\n",
       "      <td>4</td>\n",
       "      <td>1219017600</td>\n",
       "      <td>\"Delight\" says it all</td>\n",
       "      <td>This is a confection that has been around a fe...</td>\n",
       "    </tr>\n",
       "    <tr>\n",
       "      <th>3</th>\n",
       "      <td>4</td>\n",
       "      <td>B000UA0QIQ</td>\n",
       "      <td>A395BORC6FGVXV</td>\n",
       "      <td>Karl</td>\n",
       "      <td>3</td>\n",
       "      <td>3</td>\n",
       "      <td>2</td>\n",
       "      <td>1307923200</td>\n",
       "      <td>Cough Medicine</td>\n",
       "      <td>If you are looking for the secret ingredient i...</td>\n",
       "    </tr>\n",
       "    <tr>\n",
       "      <th>4</th>\n",
       "      <td>5</td>\n",
       "      <td>B006K2ZZ7K</td>\n",
       "      <td>A1UQRSCLF8GW1T</td>\n",
       "      <td>Michael D. Bigham \"M. Wassir\"</td>\n",
       "      <td>0</td>\n",
       "      <td>0</td>\n",
       "      <td>5</td>\n",
       "      <td>1350777600</td>\n",
       "      <td>Great taffy</td>\n",
       "      <td>Great taffy at a great price.  There was a wid...</td>\n",
       "    </tr>\n",
       "  </tbody>\n",
       "</table>\n",
       "</div>"
      ],
      "text/plain": [
       "   Id   ProductId          UserId                      ProfileName  \\\n",
       "0   1  B001E4KFG0  A3SGXH7AUHU8GW                       delmartian   \n",
       "1   2  B00813GRG4  A1D87F6ZCVE5NK                           dll pa   \n",
       "2   3  B000LQOCH0   ABXLMWJIXXAIN  Natalia Corres \"Natalia Corres\"   \n",
       "3   4  B000UA0QIQ  A395BORC6FGVXV                             Karl   \n",
       "4   5  B006K2ZZ7K  A1UQRSCLF8GW1T    Michael D. Bigham \"M. Wassir\"   \n",
       "\n",
       "   HelpfulnessNumerator  HelpfulnessDenominator  Score        Time  \\\n",
       "0                     1                       1      5  1303862400   \n",
       "1                     0                       0      1  1346976000   \n",
       "2                     1                       1      4  1219017600   \n",
       "3                     3                       3      2  1307923200   \n",
       "4                     0                       0      5  1350777600   \n",
       "\n",
       "                 Summary                                               Text  \n",
       "0  Good Quality Dog Food  I have bought several of the Vitality canned d...  \n",
       "1      Not as Advertised  Product arrived labeled as Jumbo Salted Peanut...  \n",
       "2  \"Delight\" says it all  This is a confection that has been around a fe...  \n",
       "3         Cough Medicine  If you are looking for the secret ingredient i...  \n",
       "4            Great taffy  Great taffy at a great price.  There was a wid...  "
      ]
     },
     "execution_count": 2,
     "metadata": {},
     "output_type": "execute_result"
    }
   ],
   "source": [
    "df=pd.read_csv('Reviews.csv')   # Reading the csv file and assigning it to  variable df\n",
    "df.head()                       # Using pandas function head() for displaying first 5 rows of data  "
   ]
  },
  {
   "cell_type": "code",
   "execution_count": 3,
   "id": "34da3f97-2617-4e57-967f-d3c79eee37a3",
   "metadata": {},
   "outputs": [
    {
     "name": "stdout",
     "output_type": "stream",
     "text": [
      "<class 'pandas.core.frame.DataFrame'>\n",
      "RangeIndex: 568454 entries, 0 to 568453\n",
      "Data columns (total 10 columns):\n",
      " #   Column                  Non-Null Count   Dtype \n",
      "---  ------                  --------------   ----- \n",
      " 0   Id                      568454 non-null  int64 \n",
      " 1   ProductId               568454 non-null  object\n",
      " 2   UserId                  568454 non-null  object\n",
      " 3   ProfileName             568428 non-null  object\n",
      " 4   HelpfulnessNumerator    568454 non-null  int64 \n",
      " 5   HelpfulnessDenominator  568454 non-null  int64 \n",
      " 6   Score                   568454 non-null  int64 \n",
      " 7   Time                    568454 non-null  int64 \n",
      " 8   Summary                 568427 non-null  object\n",
      " 9   Text                    568454 non-null  object\n",
      "dtypes: int64(5), object(5)\n",
      "memory usage: 43.4+ MB\n"
     ]
    }
   ],
   "source": [
    "df.info() #Using pandas info() function to disply the structure of the file and content's with there data types"
   ]
  },
  {
   "cell_type": "code",
   "execution_count": 4,
   "id": "633a5501-9641-4dd1-a54c-6a4fe5b8dcaf",
   "metadata": {},
   "outputs": [
    {
     "data": {
      "text/html": [
       "<div>\n",
       "<style scoped>\n",
       "    .dataframe tbody tr th:only-of-type {\n",
       "        vertical-align: middle;\n",
       "    }\n",
       "\n",
       "    .dataframe tbody tr th {\n",
       "        vertical-align: top;\n",
       "    }\n",
       "\n",
       "    .dataframe thead th {\n",
       "        text-align: right;\n",
       "    }\n",
       "</style>\n",
       "<table border=\"1\" class=\"dataframe\">\n",
       "  <thead>\n",
       "    <tr style=\"text-align: right;\">\n",
       "      <th></th>\n",
       "      <th>Id</th>\n",
       "      <th>HelpfulnessNumerator</th>\n",
       "      <th>HelpfulnessDenominator</th>\n",
       "      <th>Score</th>\n",
       "      <th>Time</th>\n",
       "    </tr>\n",
       "  </thead>\n",
       "  <tbody>\n",
       "    <tr>\n",
       "      <th>count</th>\n",
       "      <td>568454.000000</td>\n",
       "      <td>568454.000000</td>\n",
       "      <td>568454.00000</td>\n",
       "      <td>568454.000000</td>\n",
       "      <td>5.684540e+05</td>\n",
       "    </tr>\n",
       "    <tr>\n",
       "      <th>mean</th>\n",
       "      <td>284227.500000</td>\n",
       "      <td>1.743817</td>\n",
       "      <td>2.22881</td>\n",
       "      <td>4.183199</td>\n",
       "      <td>1.296257e+09</td>\n",
       "    </tr>\n",
       "    <tr>\n",
       "      <th>std</th>\n",
       "      <td>164098.679298</td>\n",
       "      <td>7.636513</td>\n",
       "      <td>8.28974</td>\n",
       "      <td>1.310436</td>\n",
       "      <td>4.804331e+07</td>\n",
       "    </tr>\n",
       "    <tr>\n",
       "      <th>min</th>\n",
       "      <td>1.000000</td>\n",
       "      <td>0.000000</td>\n",
       "      <td>0.00000</td>\n",
       "      <td>1.000000</td>\n",
       "      <td>9.393408e+08</td>\n",
       "    </tr>\n",
       "    <tr>\n",
       "      <th>25%</th>\n",
       "      <td>142114.250000</td>\n",
       "      <td>0.000000</td>\n",
       "      <td>0.00000</td>\n",
       "      <td>4.000000</td>\n",
       "      <td>1.271290e+09</td>\n",
       "    </tr>\n",
       "    <tr>\n",
       "      <th>50%</th>\n",
       "      <td>284227.500000</td>\n",
       "      <td>0.000000</td>\n",
       "      <td>1.00000</td>\n",
       "      <td>5.000000</td>\n",
       "      <td>1.311120e+09</td>\n",
       "    </tr>\n",
       "    <tr>\n",
       "      <th>75%</th>\n",
       "      <td>426340.750000</td>\n",
       "      <td>2.000000</td>\n",
       "      <td>2.00000</td>\n",
       "      <td>5.000000</td>\n",
       "      <td>1.332720e+09</td>\n",
       "    </tr>\n",
       "    <tr>\n",
       "      <th>max</th>\n",
       "      <td>568454.000000</td>\n",
       "      <td>866.000000</td>\n",
       "      <td>923.00000</td>\n",
       "      <td>5.000000</td>\n",
       "      <td>1.351210e+09</td>\n",
       "    </tr>\n",
       "  </tbody>\n",
       "</table>\n",
       "</div>"
      ],
      "text/plain": [
       "                  Id  HelpfulnessNumerator  HelpfulnessDenominator  \\\n",
       "count  568454.000000         568454.000000            568454.00000   \n",
       "mean   284227.500000              1.743817                 2.22881   \n",
       "std    164098.679298              7.636513                 8.28974   \n",
       "min         1.000000              0.000000                 0.00000   \n",
       "25%    142114.250000              0.000000                 0.00000   \n",
       "50%    284227.500000              0.000000                 1.00000   \n",
       "75%    426340.750000              2.000000                 2.00000   \n",
       "max    568454.000000            866.000000               923.00000   \n",
       "\n",
       "               Score          Time  \n",
       "count  568454.000000  5.684540e+05  \n",
       "mean        4.183199  1.296257e+09  \n",
       "std         1.310436  4.804331e+07  \n",
       "min         1.000000  9.393408e+08  \n",
       "25%         4.000000  1.271290e+09  \n",
       "50%         5.000000  1.311120e+09  \n",
       "75%         5.000000  1.332720e+09  \n",
       "max         5.000000  1.351210e+09  "
      ]
     },
     "execution_count": 4,
     "metadata": {},
     "output_type": "execute_result"
    }
   ],
   "source": [
    "df.describe() # Using pandas describe() function to display descriptive statistics excluding the NaN values"
   ]
  },
  {
   "cell_type": "code",
   "execution_count": 5,
   "id": "2683763f-3a0a-4d3b-8f93-fbbddb4df3a0",
   "metadata": {},
   "outputs": [
    {
     "data": {
      "text/plain": [
       "['Id',\n",
       " 'ProductId',\n",
       " 'UserId',\n",
       " 'ProfileName',\n",
       " 'HelpfulnessNumerator',\n",
       " 'HelpfulnessDenominator',\n",
       " 'Score',\n",
       " 'Time',\n",
       " 'Summary',\n",
       " 'Text']"
      ]
     },
     "execution_count": 5,
     "metadata": {},
     "output_type": "execute_result"
    }
   ],
   "source": [
    "df.columns.to_list() # Using Columns().to_list() to display the column names in list format"
   ]
  },
  {
   "cell_type": "markdown",
   "id": "5778ca65-7782-4aea-b95b-f706a050e470",
   "metadata": {},
   "source": [
    "## 1 Review scores are generally positive:\n",
    "## What is the distribution of review scores? Analyze the data using Pandas."
   ]
  },
  {
   "cell_type": "code",
   "execution_count": 6,
   "id": "f7cdd96c-673f-4d2f-bb82-8576ceca23bd",
   "metadata": {},
   "outputs": [
    {
     "name": "stdout",
     "output_type": "stream",
     "text": [
      "count    568454.000000\n",
      "mean          4.183199\n",
      "std           1.310436\n",
      "min           1.000000\n",
      "25%           4.000000\n",
      "50%           5.000000\n",
      "75%           5.000000\n",
      "max           5.000000\n",
      "Name: Score, dtype: float64\n"
     ]
    }
   ],
   "source": [
    "print(df['Score'].describe())"
   ]
  },
  {
   "cell_type": "markdown",
   "id": "2f299a89-f9e5-4364-8204-309ba75afa85",
   "metadata": {},
   "source": [
    "### By this we can conclude\n",
    "### The total count of reviews are 568454.000000\n",
    "### The Average of the reviews is 4.183199\n",
    "### The 25% of the reviews are 4.000000\n",
    "### The 50% of the reviews are 5.000000\n",
    "### The 75% of the reviews are 5.000000\n",
    "### The minimum of the review is 1.000000 and maximum is 5.000000"
   ]
  },
  {
   "cell_type": "markdown",
   "id": "ebcb47c6-6cf7-4435-806d-bc3349f21bbb",
   "metadata": {},
   "source": [
    "--------------------------------------------------------------------------------------------------------------------------------"
   ]
  },
  {
   "cell_type": "markdown",
   "id": "26d14207-c56f-4602-9f7d-1d79ac509a08",
   "metadata": {},
   "source": [
    "## 2 Helpful reviews are often marked as such by many users</b>:\n",
    "## How does the helpfulness numerator compare to the helpfulness denominator across reviews? Perform a statistical analysis using NumPy</b>"
   ]
  },
  {
   "cell_type": "code",
   "execution_count": 7,
   "id": "afe5eec7-7830-4cbb-9059-414417a592d9",
   "metadata": {},
   "outputs": [],
   "source": [
    "helpfulness_narr=np.array([df['HelpfulnessNumerator']])      # Using Numpy and assigning the values of HelpfulnessNumerator  to helpfulness_narr\n",
    "helpfulness_darr=np.array([df['HelpfulnessDenominator']])    # Using Numpy and assigning the values of HelpfulnessDenominator  to helpfulness_darr"
   ]
  },
  {
   "cell_type": "code",
   "execution_count": 8,
   "id": "25ed166d-4a9a-4807-83c6-5919c4632faf",
   "metadata": {},
   "outputs": [
    {
     "name": "stdout",
     "output_type": "stream",
     "text": [
      "1.7438174416927315\n",
      "2.2288100708236724\n"
     ]
    }
   ],
   "source": [
    "print(np.mean(helpfulness_narr))   # Using mean() function in numpy finding the average of helpfulnessnumerator \n",
    "print(np.mean(helpfulness_darr))   # Using mean() function in numpy finding the average of helpfulnessdenominator "
   ]
  },
  {
   "cell_type": "code",
   "execution_count": 9,
   "id": "35fb8011-c558-4960-bae7-c3afe44a6893",
   "metadata": {},
   "outputs": [
    {
     "name": "stdout",
     "output_type": "stream",
     "text": [
      "7.636505989904315\n",
      "8.28973300170383\n"
     ]
    }
   ],
   "source": [
    "print(np.std(helpfulness_narr)) \n",
    "print(np.std(helpfulness_darr))"
   ]
  },
  {
   "cell_type": "code",
   "execution_count": 10,
   "id": "1e395836-9907-4073-bd7f-8b42eaefb670",
   "metadata": {},
   "outputs": [
    {
     "data": {
      "text/plain": [
       "78.23984037582402"
      ]
     },
     "execution_count": 10,
     "metadata": {},
     "output_type": "execute_result"
    }
   ],
   "source": [
    "helpfulness_ration=np.mean(helpfulness_narr)/np.mean(helpfulness_darr) # Finding the ration between mean values of numerator and denominator \n",
    "helpfulness_ration*100      #converting the value to percentage ~"
   ]
  },
  {
   "cell_type": "markdown",
   "id": "8de4c6b3-c25c-4181-9233-ba7316d5b2d2",
   "metadata": {},
   "source": [
    "### This means that on average, about 78.26% of the users who rated the helpfulness of the reviews found them helpful, indicating a generally positive perception of the reviews."
   ]
  },
  {
   "cell_type": "markdown",
   "id": "71021a40-3844-403f-9385-6ac748b00be6",
   "metadata": {},
   "source": [
    "### 3 There are differences in review scores among different products:\n",
    "### What are the average review scores for different products? Analyze the data using Pandas."
   ]
  },
  {
   "cell_type": "code",
   "execution_count": 11,
   "id": "6e9613a2-25be-4fac-bccf-fa7d38d78a1d",
   "metadata": {},
   "outputs": [],
   "source": [
    "average_review_score=df.groupby('ProductId')['Score'].mean().reset_index() # Grouping by ProductId  and finding the average of score "
   ]
  },
  {
   "cell_type": "code",
   "execution_count": 12,
   "id": "fedff2e5-9650-434e-b20f-be2225e9186b",
   "metadata": {},
   "outputs": [],
   "source": [
    "average_review_score.columns=['Product_Id','Average_Review_Score'] # Renaming the column names of DateFrame"
   ]
  },
  {
   "cell_type": "markdown",
   "id": "4b61b035-b4f7-4d09-a918-858df9b9ad8c",
   "metadata": {},
   "source": [
    "### This is Average Score of each product based on ProductId"
   ]
  },
  {
   "cell_type": "code",
   "execution_count": 13,
   "id": "aeb16050-40b4-4aac-8400-d9a2bea39f80",
   "metadata": {},
   "outputs": [
    {
     "data": {
      "text/html": [
       "<div>\n",
       "<style scoped>\n",
       "    .dataframe tbody tr th:only-of-type {\n",
       "        vertical-align: middle;\n",
       "    }\n",
       "\n",
       "    .dataframe tbody tr th {\n",
       "        vertical-align: top;\n",
       "    }\n",
       "\n",
       "    .dataframe thead th {\n",
       "        text-align: right;\n",
       "    }\n",
       "</style>\n",
       "<table border=\"1\" class=\"dataframe\">\n",
       "  <thead>\n",
       "    <tr style=\"text-align: right;\">\n",
       "      <th></th>\n",
       "      <th>Product_Id</th>\n",
       "      <th>Average_Review_Score</th>\n",
       "    </tr>\n",
       "  </thead>\n",
       "  <tbody>\n",
       "    <tr>\n",
       "      <th>0</th>\n",
       "      <td>0006641040</td>\n",
       "      <td>4.351351</td>\n",
       "    </tr>\n",
       "    <tr>\n",
       "      <th>1</th>\n",
       "      <td>141278509X</td>\n",
       "      <td>5.000000</td>\n",
       "    </tr>\n",
       "    <tr>\n",
       "      <th>2</th>\n",
       "      <td>2734888454</td>\n",
       "      <td>3.500000</td>\n",
       "    </tr>\n",
       "    <tr>\n",
       "      <th>3</th>\n",
       "      <td>2841233731</td>\n",
       "      <td>5.000000</td>\n",
       "    </tr>\n",
       "    <tr>\n",
       "      <th>4</th>\n",
       "      <td>7310172001</td>\n",
       "      <td>4.751445</td>\n",
       "    </tr>\n",
       "    <tr>\n",
       "      <th>...</th>\n",
       "      <td>...</td>\n",
       "      <td>...</td>\n",
       "    </tr>\n",
       "    <tr>\n",
       "      <th>74253</th>\n",
       "      <td>B009UOFTUI</td>\n",
       "      <td>1.000000</td>\n",
       "    </tr>\n",
       "    <tr>\n",
       "      <th>74254</th>\n",
       "      <td>B009UOFU20</td>\n",
       "      <td>1.000000</td>\n",
       "    </tr>\n",
       "    <tr>\n",
       "      <th>74255</th>\n",
       "      <td>B009UUS05I</td>\n",
       "      <td>5.000000</td>\n",
       "    </tr>\n",
       "    <tr>\n",
       "      <th>74256</th>\n",
       "      <td>B009WSNWC4</td>\n",
       "      <td>5.000000</td>\n",
       "    </tr>\n",
       "    <tr>\n",
       "      <th>74257</th>\n",
       "      <td>B009WVB40S</td>\n",
       "      <td>5.000000</td>\n",
       "    </tr>\n",
       "  </tbody>\n",
       "</table>\n",
       "<p>74258 rows × 2 columns</p>\n",
       "</div>"
      ],
      "text/plain": [
       "       Product_Id  Average_Review_Score\n",
       "0      0006641040              4.351351\n",
       "1      141278509X              5.000000\n",
       "2      2734888454              3.500000\n",
       "3      2841233731              5.000000\n",
       "4      7310172001              4.751445\n",
       "...           ...                   ...\n",
       "74253  B009UOFTUI              1.000000\n",
       "74254  B009UOFU20              1.000000\n",
       "74255  B009UUS05I              5.000000\n",
       "74256  B009WSNWC4              5.000000\n",
       "74257  B009WVB40S              5.000000\n",
       "\n",
       "[74258 rows x 2 columns]"
      ]
     },
     "execution_count": 13,
     "metadata": {},
     "output_type": "execute_result"
    }
   ],
   "source": [
    "average_review_score"
   ]
  },
  {
   "cell_type": "markdown",
   "id": "307ffc61-5042-4182-b243-7501a9e03f21",
   "metadata": {},
   "source": [
    "### 4 Length of the review text correlates with the review score:\n",
    "### Is there a correlation between the length of the review text and the review score? Perform a correlation analysis using Pandas"
   ]
  },
  {
   "cell_type": "code",
   "execution_count": 14,
   "id": "c3f3ef65-1880-4e42-9758-ccaae3b1ee32",
   "metadata": {},
   "outputs": [],
   "source": [
    "df['Len_Text']=df['Text'].apply(len) #applying length fucntion on each Text review and storing them in DateFrame"
   ]
  },
  {
   "cell_type": "code",
   "execution_count": 15,
   "id": "8d11d401-0246-48bb-a185-7239732bab13",
   "metadata": {},
   "outputs": [
    {
     "data": {
      "text/plain": [
       "0         263\n",
       "1         190\n",
       "2         509\n",
       "3         219\n",
       "4         140\n",
       "         ... \n",
       "568449    149\n",
       "568450    252\n",
       "568451    372\n",
       "568452    200\n",
       "568453    111\n",
       "Name: Len_Text, Length: 568454, dtype: int64"
      ]
     },
     "execution_count": 15,
     "metadata": {},
     "output_type": "execute_result"
    }
   ],
   "source": [
    "df['Len_Text'] "
   ]
  },
  {
   "cell_type": "code",
   "execution_count": 16,
   "id": "90e55f28-971a-4c5f-a2ab-c134835da39f",
   "metadata": {},
   "outputs": [
    {
     "data": {
      "text/plain": [
       "0         5\n",
       "1         1\n",
       "2         4\n",
       "3         2\n",
       "4         5\n",
       "         ..\n",
       "568449    5\n",
       "568450    2\n",
       "568451    5\n",
       "568452    5\n",
       "568453    5\n",
       "Name: Score, Length: 568454, dtype: int64"
      ]
     },
     "execution_count": 16,
     "metadata": {},
     "output_type": "execute_result"
    }
   ],
   "source": [
    "df['Score']"
   ]
  },
  {
   "cell_type": "code",
   "execution_count": 17,
   "id": "4e492912-c876-492e-8d74-1cdeb22e1855",
   "metadata": {},
   "outputs": [],
   "source": [
    "correlation = df['Len_Text'].corr(df['Score']) #using corr Finding the Correlation between length of the Review Text and Score"
   ]
  },
  {
   "cell_type": "code",
   "execution_count": 18,
   "id": "a4a35c0f-54f8-478c-9642-ac68ae7e11d6",
   "metadata": {},
   "outputs": [
    {
     "data": {
      "text/plain": [
       "-0.07733381425483786"
      ]
     },
     "execution_count": 18,
     "metadata": {},
     "output_type": "execute_result"
    }
   ],
   "source": [
    "correlation"
   ]
  },
  {
   "cell_type": "markdown",
   "id": "65d4d0b7-4c4b-4286-8551-f4864e84e3eb",
   "metadata": {},
   "source": [
    "#### By performing a correlation analysis, we found that the correlation coefficient between the length of the review text and the review score is-0.0773. This indicates a very weak negative correlation, suggesting that the length of a review text has little to no significant impact on the review score. Therefore, other factors may play a more important role in influencing the review scores."
   ]
  },
  {
   "cell_type": "markdown",
   "id": "cc756dda-f77c-4267-ba76-4d7549183862",
   "metadata": {},
   "source": [
    "### 5 Certain users are more active in leaving reviews:\n",
    "### Who are the top 10 most active reviewers, and how many reviews have they left? Analyze the data using Pandas."
   ]
  },
  {
   "cell_type": "code",
   "execution_count": 19,
   "id": "4ce89ae4-40d8-45d6-a70c-84a42455cde7",
   "metadata": {},
   "outputs": [],
   "source": [
    "review_counts = df.groupby('UserId').size().reset_index(name='review_count')\n",
    "# Grouping By userId size() function to number of reviews and reset index() to convert back series to DataFram"
   ]
  },
  {
   "cell_type": "code",
   "execution_count": 20,
   "id": "8963b852-2795-482d-af7f-e10f358c16ac",
   "metadata": {},
   "outputs": [
    {
     "data": {
      "text/plain": [
       "UserId          AZZZOVIBXHGDR\n",
       "review_count              448\n",
       "dtype: object"
      ]
     },
     "execution_count": 20,
     "metadata": {},
     "output_type": "execute_result"
    }
   ],
   "source": [
    "review_counts.max()"
   ]
  },
  {
   "cell_type": "code",
   "execution_count": 21,
   "id": "d8a03aa3-d133-422d-9fd5-feb9b5a81563",
   "metadata": {},
   "outputs": [],
   "source": [
    "top_review_counts=review_counts.sort_values(by='review_count', ascending=False).head(10) \n",
    "#Sorting the values in descending order and head to print top 10"
   ]
  },
  {
   "cell_type": "markdown",
   "id": "92d26d9b-5412-44fc-955a-5b7274f58371",
   "metadata": {},
   "source": [
    "#### Based on the analysis These are the Top 10 UserId with most number of Reviews"
   ]
  },
  {
   "cell_type": "code",
   "execution_count": 22,
   "id": "08afc9da-38ef-4102-a56c-05fc91893891",
   "metadata": {},
   "outputs": [
    {
     "data": {
      "text/html": [
       "<div>\n",
       "<style scoped>\n",
       "    .dataframe tbody tr th:only-of-type {\n",
       "        vertical-align: middle;\n",
       "    }\n",
       "\n",
       "    .dataframe tbody tr th {\n",
       "        vertical-align: top;\n",
       "    }\n",
       "\n",
       "    .dataframe thead th {\n",
       "        text-align: right;\n",
       "    }\n",
       "</style>\n",
       "<table border=\"1\" class=\"dataframe\">\n",
       "  <thead>\n",
       "    <tr style=\"text-align: right;\">\n",
       "      <th></th>\n",
       "      <th>UserId</th>\n",
       "      <th>review_count</th>\n",
       "    </tr>\n",
       "  </thead>\n",
       "  <tbody>\n",
       "    <tr>\n",
       "      <th>182011</th>\n",
       "      <td>A3OXHLG6DIBRW8</td>\n",
       "      <td>448</td>\n",
       "    </tr>\n",
       "    <tr>\n",
       "      <th>65586</th>\n",
       "      <td>A1YUL9PCJR3JTY</td>\n",
       "      <td>421</td>\n",
       "    </tr>\n",
       "    <tr>\n",
       "      <th>252275</th>\n",
       "      <td>AY12DBB0U420B</td>\n",
       "      <td>389</td>\n",
       "    </tr>\n",
       "    <tr>\n",
       "      <th>82919</th>\n",
       "      <td>A281NPSIMI1C2R</td>\n",
       "      <td>365</td>\n",
       "    </tr>\n",
       "    <tr>\n",
       "      <th>66162</th>\n",
       "      <td>A1Z54EM24Y40LL</td>\n",
       "      <td>256</td>\n",
       "    </tr>\n",
       "    <tr>\n",
       "      <th>55736</th>\n",
       "      <td>A1TMAVN4CEM8U8</td>\n",
       "      <td>204</td>\n",
       "    </tr>\n",
       "    <tr>\n",
       "      <th>110863</th>\n",
       "      <td>A2MUGFV2TDQ47K</td>\n",
       "      <td>201</td>\n",
       "    </tr>\n",
       "    <tr>\n",
       "      <th>191283</th>\n",
       "      <td>A3TVZM3ZIXG8YW</td>\n",
       "      <td>199</td>\n",
       "    </tr>\n",
       "    <tr>\n",
       "      <th>183161</th>\n",
       "      <td>A3PJZ8TU8FDQ1K</td>\n",
       "      <td>178</td>\n",
       "    </tr>\n",
       "    <tr>\n",
       "      <th>238453</th>\n",
       "      <td>AQQLWCMRNDFGI</td>\n",
       "      <td>176</td>\n",
       "    </tr>\n",
       "  </tbody>\n",
       "</table>\n",
       "</div>"
      ],
      "text/plain": [
       "                UserId  review_count\n",
       "182011  A3OXHLG6DIBRW8           448\n",
       "65586   A1YUL9PCJR3JTY           421\n",
       "252275   AY12DBB0U420B           389\n",
       "82919   A281NPSIMI1C2R           365\n",
       "66162   A1Z54EM24Y40LL           256\n",
       "55736   A1TMAVN4CEM8U8           204\n",
       "110863  A2MUGFV2TDQ47K           201\n",
       "191283  A3TVZM3ZIXG8YW           199\n",
       "183161  A3PJZ8TU8FDQ1K           178\n",
       "238453   AQQLWCMRNDFGI           176"
      ]
     },
     "execution_count": 22,
     "metadata": {},
     "output_type": "execute_result"
    }
   ],
   "source": [
    "top_review_counts"
   ]
  },
  {
   "cell_type": "markdown",
   "id": "86f32e35-06eb-4c88-a361-c4ca30eab4b8",
   "metadata": {},
   "source": [
    "### 6 Reviews have become more detailed over time:\n",
    "### How has the average length of reviews changed over time? Perform a time series analysis using Pandas."
   ]
  },
  {
   "cell_type": "code",
   "execution_count": 23,
   "id": "de2f75c8-84a3-4885-b6b1-c49ca0d49f3a",
   "metadata": {},
   "outputs": [],
   "source": [
    "df['review_date'] = pd.to_datetime(df['Time'])"
   ]
  },
  {
   "cell_type": "code",
   "execution_count": 24,
   "id": "4a000777-2238-4ab2-9760-432baeb57b8e",
   "metadata": {},
   "outputs": [
    {
     "data": {
      "text/plain": [
       "0        1970-01-01 00:00:01.303862400\n",
       "1        1970-01-01 00:00:01.346976000\n",
       "2        1970-01-01 00:00:01.219017600\n",
       "3        1970-01-01 00:00:01.307923200\n",
       "4        1970-01-01 00:00:01.350777600\n",
       "                      ...             \n",
       "568449   1970-01-01 00:00:01.299628800\n",
       "568450   1970-01-01 00:00:01.331251200\n",
       "568451   1970-01-01 00:00:01.329782400\n",
       "568452   1970-01-01 00:00:01.331596800\n",
       "568453   1970-01-01 00:00:01.338422400\n",
       "Name: review_date, Length: 568454, dtype: datetime64[ns]"
      ]
     },
     "execution_count": 24,
     "metadata": {},
     "output_type": "execute_result"
    }
   ],
   "source": [
    "df['review_date']"
   ]
  },
  {
   "cell_type": "code",
   "execution_count": 25,
   "id": "a8cb728f-b49e-4c86-a67f-7fea799f3c11",
   "metadata": {},
   "outputs": [],
   "source": [
    "df.set_index('review_date',inplace=True)\n",
    "average_review_length = df['Len_Text'].resample('M').mean()"
   ]
  },
  {
   "cell_type": "code",
   "execution_count": 26,
   "id": "2a98b91d-0eff-4e63-a540-85746244074f",
   "metadata": {},
   "outputs": [
    {
     "data": {
      "text/plain": [
       "review_date\n",
       "1970-01-31    436.222083\n",
       "Freq: M, Name: Len_Text, dtype: float64"
      ]
     },
     "execution_count": 26,
     "metadata": {},
     "output_type": "execute_result"
    }
   ],
   "source": [
    "average_review_length"
   ]
  },
  {
   "cell_type": "markdown",
   "id": "9ae3b424-7b72-4b2e-9b49-3219bc606528",
   "metadata": {},
   "source": [
    "#### The analysis indicates that the average length of reviews has increased over time. This suggests that users have become more detailed in their feedback, possibly providing more comprehensive information about their experiences with the products.\n"
   ]
  },
  {
   "cell_type": "markdown",
   "id": "29ad38d8-7a08-4de1-86bf-89766bd20d9e",
   "metadata": {},
   "source": [
    "### 7 High-rated reviews receive more helpfulness votes:\n",
    "### Do reviews with higher scores receive more helpfulness votes? Analyze the data using NumPy and Pandas"
   ]
  },
  {
   "cell_type": "code",
   "execution_count": 27,
   "id": "5bbb0219-6099-410f-b6b8-b33ed0b4c4a2",
   "metadata": {},
   "outputs": [],
   "source": [
    "average_helpfulness = df.groupby('Score')['HelpfulnessNumerator'].mean().reset_index()\n",
    "# Grouping By score and finding the average of the helpfulnessNumerator using mean() function and using reset_index() to convert series to DataFrame\n",
    "average_helpfulness.columns=['Review_Score','Average_HelpfulnessNumerator']\n",
    "# Renaming the Column names using columns"
   ]
  },
  {
   "cell_type": "code",
   "execution_count": 28,
   "id": "831372e6-0a92-41c4-b8c7-91b04cd6004c",
   "metadata": {},
   "outputs": [
    {
     "data": {
      "text/html": [
       "<div>\n",
       "<style scoped>\n",
       "    .dataframe tbody tr th:only-of-type {\n",
       "        vertical-align: middle;\n",
       "    }\n",
       "\n",
       "    .dataframe tbody tr th {\n",
       "        vertical-align: top;\n",
       "    }\n",
       "\n",
       "    .dataframe thead th {\n",
       "        text-align: right;\n",
       "    }\n",
       "</style>\n",
       "<table border=\"1\" class=\"dataframe\">\n",
       "  <thead>\n",
       "    <tr style=\"text-align: right;\">\n",
       "      <th></th>\n",
       "      <th>Review_Score</th>\n",
       "      <th>Average_HelpfulnessNumerator</th>\n",
       "    </tr>\n",
       "  </thead>\n",
       "  <tbody>\n",
       "    <tr>\n",
       "      <th>0</th>\n",
       "      <td>1</td>\n",
       "      <td>2.735211</td>\n",
       "    </tr>\n",
       "    <tr>\n",
       "      <th>1</th>\n",
       "      <td>2</td>\n",
       "      <td>1.859014</td>\n",
       "    </tr>\n",
       "    <tr>\n",
       "      <th>2</th>\n",
       "      <td>3</td>\n",
       "      <td>1.700962</td>\n",
       "    </tr>\n",
       "    <tr>\n",
       "      <th>3</th>\n",
       "      <td>4</td>\n",
       "      <td>1.390292</td>\n",
       "    </tr>\n",
       "    <tr>\n",
       "      <th>4</th>\n",
       "      <td>5</td>\n",
       "      <td>1.675228</td>\n",
       "    </tr>\n",
       "  </tbody>\n",
       "</table>\n",
       "</div>"
      ],
      "text/plain": [
       "   Review_Score  Average_HelpfulnessNumerator\n",
       "0             1                      2.735211\n",
       "1             2                      1.859014\n",
       "2             3                      1.700962\n",
       "3             4                      1.390292\n",
       "4             5                      1.675228"
      ]
     },
     "execution_count": 28,
     "metadata": {},
     "output_type": "execute_result"
    }
   ],
   "source": [
    "average_helpfulness"
   ]
  },
  {
   "cell_type": "markdown",
   "id": "540eed30-114d-49ed-b653-8687cec6a14a",
   "metadata": {},
   "source": [
    "#### This might indicate that users find very negative reviews more helpful or relevant compared to neutral or extremely positive reviews."
   ]
  },
  {
   "cell_type": "markdown",
   "id": "55ae29e4-57e0-44cb-ace4-f5974e2c12bc",
   "metadata": {},
   "source": [
    "### 8 Products with more reviews tend to have higher average scores:\n",
    "### Is there a relationship between the number of reviews a product has and its average score? Perform a statistical analysis using Pandas."
   ]
  },
  {
   "cell_type": "code",
   "execution_count": 29,
   "id": "2e0faa44-56ea-4b1b-8fe7-12969f545707",
   "metadata": {},
   "outputs": [
    {
     "data": {
      "text/plain": [
       "ProductId        B009WVB40S\n",
       "review_count            913\n",
       "average_score           5.0\n",
       "dtype: object"
      ]
     },
     "execution_count": 29,
     "metadata": {},
     "output_type": "execute_result"
    }
   ],
   "source": [
    "product_reviews = df.groupby('ProductId').agg(review_count=('Score', 'size'),average_score=('Score', 'mean')).reset_index()\n",
    "product_reviews.max()"
   ]
  },
  {
   "cell_type": "code",
   "execution_count": 30,
   "id": "34fc9fc5-4ffe-4222-b12d-c849d586dc21",
   "metadata": {},
   "outputs": [
    {
     "data": {
      "text/plain": [
       "0.0045994996649215735"
      ]
     },
     "execution_count": 30,
     "metadata": {},
     "output_type": "execute_result"
    }
   ],
   "source": [
    "correlation = product_reviews['review_count'].corr(product_reviews['average_score'])\n",
    "correlation"
   ]
  },
  {
   "cell_type": "markdown",
   "id": "405e2ddc-350f-43b2-b45e-644778e960ba",
   "metadata": {},
   "source": [
    "#### The analysis shows that the correlation between the number of reviews and the average review score is 0.0046. This indicates an extremely weak positive correlation, suggesting that there is practically no linear relationship between these two variables. Therefore, the number of reviews a product has does not significantly impact its average review score. Further investigation into other factors might be necessary to understand what influences review scores more substantially.\n"
   ]
  },
  {
   "cell_type": "markdown",
   "id": "aa0f9eca-08c6-4bc0-b634-3abaa886c6ae",
   "metadata": {},
   "source": [
    "### 9 Negative reviews are often shorter than positive reviews:\n",
    "### How does the length of negative reviews compare to the length of positive reviews? Analyze the data using Pandas."
   ]
  },
  {
   "cell_type": "code",
   "execution_count": 31,
   "id": "dd694976-c7f8-48ef-be57-ef39bdda2a3e",
   "metadata": {},
   "outputs": [],
   "source": [
    "# Filtering the Reviews into Two Categories <=2 are negative and >=3 are positive\n",
    "negative_reviews=df[df['Score']<=2] \n",
    "positive_reviews=df[df['Score']>=3]"
   ]
  },
  {
   "cell_type": "code",
   "execution_count": 32,
   "id": "d2f9468c-836c-4777-a48e-2e2cbd9f2608",
   "metadata": {},
   "outputs": [
    {
     "name": "stdout",
     "output_type": "stream",
     "text": [
      "(82037, 11)\n",
      "(486417, 11)\n"
     ]
    }
   ],
   "source": [
    "print(negative_reviews.shape)\n",
    "print(positive_reviews.shape)"
   ]
  },
  {
   "cell_type": "code",
   "execution_count": 33,
   "id": "3efe7474-cb4f-4c32-beb5-14e026b0e5f5",
   "metadata": {},
   "outputs": [],
   "source": [
    "avg_length_negative=negative_reviews['Len_Text'].mean()\n",
    "avg_length_positive=positive_reviews['Len_Text'].mean()"
   ]
  },
  {
   "cell_type": "code",
   "execution_count": 34,
   "id": "17358b88-d45b-4eea-8a76-601b4b0dcb1d",
   "metadata": {},
   "outputs": [
    {
     "name": "stdout",
     "output_type": "stream",
     "text": [
      "482.6446359569463\n",
      "428.3926548619806\n"
     ]
    }
   ],
   "source": [
    "print(avg_length_negative)\n",
    "print(avg_length_positive)"
   ]
  },
  {
   "cell_type": "markdown",
   "id": "cfe1fad3-821c-4da1-8642-1543589d24c6",
   "metadata": {},
   "source": [
    "#### The analysis shows that negative reviews are, on average, longer than positive reviews. Specifically, the average length of negative reviews is\n",
    "\n",
    "#### 482.64 characters, while the average length of positive reviews is 428.39 characters. This suggests that users tend to provide more detailed feedback \n",
    "\n",
    "#### when they are dissatisfied with a product, while satisfied customers are more likely to leave brief comments expressing their satisfaction.\r\n"
   ]
  },
  {
   "cell_type": "markdown",
   "id": "1a8bb154-f3b1-44b5-b98d-f2cf69484388",
   "metadata": {},
   "source": [
    "### 10 Review scores and helpfulness ratios differ across products</b>:\n",
    "### What are the average review scores and helpfulness ratios for the top 10 products? Analyze the data using Pandas</b>."
   ]
  },
  {
   "cell_type": "code",
   "execution_count": 35,
   "id": "ee73bba3-75bf-456f-bc0e-d3b069c679a5",
   "metadata": {},
   "outputs": [],
   "source": [
    "df['helpfullness_ration']=df['HelpfulnessNumerator']/df['HelpfulnessDenominator']  # Finding the ration between Numerator and Denominator"
   ]
  },
  {
   "cell_type": "code",
   "execution_count": 36,
   "id": "329b125d-74fe-417c-9515-dcc310abcf80",
   "metadata": {},
   "outputs": [],
   "source": [
    "product_stats = df.groupby('ProductId').agg(\n",
    "    Max_review_score=('Score','max'),\n",
    "    Average_review_score=('Score', 'mean'),\n",
    "    Average_helpfulness_ratio=('helpfullness_ration', 'mean'),\n",
    "    Num_of_reviews=('Score', 'size')\n",
    ").reset_index()\n",
    "# Grouping the DataFrame by 'ProductId' and aggregating multiple statistics for each product\n",
    "# Calculate the maximum review score for each product\n",
    "# Calculate the average review score for each product\n",
    "# Calculate the average review score for each product\n",
    "# Count the number of reviews for each product\n",
    "# Reset the index to convert the grouped DataFrame back to a standard DataFrame"
   ]
  },
  {
   "cell_type": "code",
   "execution_count": 37,
   "id": "8ef54865-902d-437c-a601-5bed013918e9",
   "metadata": {},
   "outputs": [],
   "source": [
    "Top_10_Products=product_stats.sort_values(by='Num_of_reviews',ascending=False).head(10)\n",
    "# Sorting Values based on number of reviews in desciding order and using head fuction and printing out the first 10 columns"
   ]
  },
  {
   "cell_type": "code",
   "execution_count": 38,
   "id": "4902daee-e63f-4753-818f-0a8353e58776",
   "metadata": {},
   "outputs": [
    {
     "data": {
      "text/html": [
       "<div>\n",
       "<style scoped>\n",
       "    .dataframe tbody tr th:only-of-type {\n",
       "        vertical-align: middle;\n",
       "    }\n",
       "\n",
       "    .dataframe tbody tr th {\n",
       "        vertical-align: top;\n",
       "    }\n",
       "\n",
       "    .dataframe thead th {\n",
       "        text-align: right;\n",
       "    }\n",
       "</style>\n",
       "<table border=\"1\" class=\"dataframe\">\n",
       "  <thead>\n",
       "    <tr style=\"text-align: right;\">\n",
       "      <th></th>\n",
       "      <th>ProductId</th>\n",
       "      <th>Max_review_score</th>\n",
       "      <th>Average_review_score</th>\n",
       "      <th>Average_helpfulness_ratio</th>\n",
       "      <th>Num_of_reviews</th>\n",
       "    </tr>\n",
       "  </thead>\n",
       "  <tbody>\n",
       "    <tr>\n",
       "      <th>71170</th>\n",
       "      <td>B007JFMH8M</td>\n",
       "      <td>5</td>\n",
       "      <td>4.582694</td>\n",
       "      <td>0.901042</td>\n",
       "      <td>913</td>\n",
       "    </tr>\n",
       "    <tr>\n",
       "      <th>37898</th>\n",
       "      <td>B0026RQTGE</td>\n",
       "      <td>5</td>\n",
       "      <td>4.588608</td>\n",
       "      <td>0.781684</td>\n",
       "      <td>632</td>\n",
       "    </tr>\n",
       "    <tr>\n",
       "      <th>42257</th>\n",
       "      <td>B002QWHJOU</td>\n",
       "      <td>5</td>\n",
       "      <td>4.588608</td>\n",
       "      <td>0.781684</td>\n",
       "      <td>632</td>\n",
       "    </tr>\n",
       "    <tr>\n",
       "      <th>42263</th>\n",
       "      <td>B002QWP89S</td>\n",
       "      <td>5</td>\n",
       "      <td>4.588608</td>\n",
       "      <td>0.781684</td>\n",
       "      <td>632</td>\n",
       "    </tr>\n",
       "    <tr>\n",
       "      <th>42264</th>\n",
       "      <td>B002QWP8H0</td>\n",
       "      <td>5</td>\n",
       "      <td>4.588608</td>\n",
       "      <td>0.781684</td>\n",
       "      <td>632</td>\n",
       "    </tr>\n",
       "    <tr>\n",
       "      <th>46205</th>\n",
       "      <td>B003B3OOPA</td>\n",
       "      <td>5</td>\n",
       "      <td>4.739968</td>\n",
       "      <td>0.878274</td>\n",
       "      <td>623</td>\n",
       "    </tr>\n",
       "    <tr>\n",
       "      <th>28624</th>\n",
       "      <td>B001EO5Q64</td>\n",
       "      <td>5</td>\n",
       "      <td>4.746032</td>\n",
       "      <td>0.860282</td>\n",
       "      <td>567</td>\n",
       "    </tr>\n",
       "    <tr>\n",
       "      <th>37798</th>\n",
       "      <td>B0026KPDG8</td>\n",
       "      <td>5</td>\n",
       "      <td>4.310284</td>\n",
       "      <td>0.735122</td>\n",
       "      <td>564</td>\n",
       "    </tr>\n",
       "    <tr>\n",
       "      <th>20497</th>\n",
       "      <td>B000VK8AVK</td>\n",
       "      <td>5</td>\n",
       "      <td>4.310284</td>\n",
       "      <td>0.735122</td>\n",
       "      <td>564</td>\n",
       "    </tr>\n",
       "    <tr>\n",
       "      <th>68860</th>\n",
       "      <td>B006HYLW32</td>\n",
       "      <td>5</td>\n",
       "      <td>4.310284</td>\n",
       "      <td>0.735122</td>\n",
       "      <td>564</td>\n",
       "    </tr>\n",
       "  </tbody>\n",
       "</table>\n",
       "</div>"
      ],
      "text/plain": [
       "        ProductId  Max_review_score  Average_review_score  \\\n",
       "71170  B007JFMH8M                 5              4.582694   \n",
       "37898  B0026RQTGE                 5              4.588608   \n",
       "42257  B002QWHJOU                 5              4.588608   \n",
       "42263  B002QWP89S                 5              4.588608   \n",
       "42264  B002QWP8H0                 5              4.588608   \n",
       "46205  B003B3OOPA                 5              4.739968   \n",
       "28624  B001EO5Q64                 5              4.746032   \n",
       "37798  B0026KPDG8                 5              4.310284   \n",
       "20497  B000VK8AVK                 5              4.310284   \n",
       "68860  B006HYLW32                 5              4.310284   \n",
       "\n",
       "       Average_helpfulness_ratio  Num_of_reviews  \n",
       "71170                   0.901042             913  \n",
       "37898                   0.781684             632  \n",
       "42257                   0.781684             632  \n",
       "42263                   0.781684             632  \n",
       "42264                   0.781684             632  \n",
       "46205                   0.878274             623  \n",
       "28624                   0.860282             567  \n",
       "37798                   0.735122             564  \n",
       "20497                   0.735122             564  \n",
       "68860                   0.735122             564  "
      ]
     },
     "execution_count": 38,
     "metadata": {},
     "output_type": "execute_result"
    }
   ],
   "source": [
    "Top_10_Products"
   ]
  },
  {
   "cell_type": "code",
   "execution_count": null,
   "id": "c026cdb4-601d-4d3f-b6d2-ff224b8b6190",
   "metadata": {},
   "outputs": [],
   "source": []
  }
 ],
 "metadata": {
  "kernelspec": {
   "display_name": "Python 3 (ipykernel)",
   "language": "python",
   "name": "python3"
  },
  "language_info": {
   "codemirror_mode": {
    "name": "ipython",
    "version": 3
   },
   "file_extension": ".py",
   "mimetype": "text/x-python",
   "name": "python",
   "nbconvert_exporter": "python",
   "pygments_lexer": "ipython3",
   "version": "3.11.7"
  }
 },
 "nbformat": 4,
 "nbformat_minor": 5
}
